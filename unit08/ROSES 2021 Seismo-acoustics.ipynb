{
 "cells": [
    {
   "cell_type": "markdown",
   "metadata": {},
   "source": [
    "![](https://raw.githubusercontent.com/fdannemanndugick/roses2021/main/header.png)"
   ]
  },  {
   "cell_type": "markdown",
   "metadata": {},
   "source": [
    "# ROSES 2021 - Seismo-acoustics - August 10th 2021"
   ]
  },
  {
   "cell_type": "markdown",
   "metadata": {},
   "source": [
    "Jelle Assink<br/>\n",
    "<br/>\n",
    "**Royal Netherlands Meteorological Institute**<br/>\n",
    "*R&D Seismology and Acoustics*<br/>\n",
    "<br/>\n",
    "e-mail: *jelle.assink@knmi.nl*"
   ]
  },
  {
   "cell_type": "markdown",
   "metadata": {},
   "source": [
    "# Introduction"
   ]
  },
  {
   "cell_type": "markdown",
   "metadata": {},
   "source": [
    "In this notebook, we'll do / learn the following:\n",
    "\n",
    "1. Download infrasound data from an earthquake of interest\n",
    "2. Review (1) station metadata and (2) sensor response\n",
    "3. Perform a first analysis based on traveltime and spectral analysis\n",
    "4. Learn about array responses\n",
    "5. Beamform array and interpret results\n",
    "6. Perform FK-domain analyses\n",
    "\n",
    "Enjoy! :)"
   ]
  },
  {
   "cell_type": "markdown",
   "metadata": {},
   "source": [
    "Before we continue, let's load these first"
   ]
  },
  {
   "cell_type": "code",
   "execution_count": null,
   "metadata": {},
   "outputs": [],
   "source": [
    "%config Completer.use_jedi = False\n",
    "%matplotlib inline\n",
    "%load_ext autoreload\n",
    "%autoreload 2"
   ]
  },
  {
   "cell_type": "code",
   "execution_count": null,
   "metadata": {},
   "outputs": [],
   "source": [
    "import numpy as np\n",
    "import matplotlib.pyplot as plt\n",
    "import matplotlib.dates as mdates\n",
    "from matplotlib.ticker import MultipleLocator, AutoMinorLocator, AutoLocator, FixedLocator\n",
    "from matplotlib.ticker import ScalarFormatter, FuncFormatter\n",
    "plt.rcParams['figure.dpi'] = 100"
   ]
  },
  {
   "cell_type": "markdown",
   "metadata": {},
   "source": [
    "# Seismo-acoustic event analysis"
   ]
  },
  {
   "cell_type": "markdown",
   "metadata": {},
   "source": [
    "### Get event metadata"
   ]
  },
  {
   "cell_type": "code",
   "execution_count": null,
   "metadata": {},
   "outputs": [],
   "source": [
    "from obspy.clients.fdsn import Client as fdsnClient\n",
    "client = fdsnClient('USGS')\n",
    "\n",
    "# M 6.2 - 5 km WNW of Accumoli, Italy (24 Aug. 2016)\n",
    "catalog = client.get_events(eventid='us10006g7d')\n",
    "\n",
    "# M 8.2 - 104 km SE of Perryville, Alaska (29 July 2021)\n",
    "#catalog = client.get_events(eventid='us6000f02w')\n",
    "\n",
    "#catalog.write('event.xml', format='QuakeML')\n",
    "print(catalog)\n",
    "event = catalog[0]\n",
    "origin = event.preferred_origin()\n",
    "\n",
    "# take these bounds to select from the inventory\n",
    "event_day_t0 = origin.time.replace(hour=0, minute=0, second=0, microsecond=0)\n",
    "event_day_t1 = event_day_t0 + 24*3600"
   ]
  },
  {
   "cell_type": "code",
   "execution_count": null,
   "metadata": {},
   "outputs": [],
   "source": [
    "catalog.plot(projection='ortho')\n",
    "plt.show()"
   ]
  },
  {
   "cell_type": "markdown",
   "metadata": {},
   "source": [
    "### Load Obspy array processing functions"
   ]
  },
  {
   "cell_type": "code",
   "execution_count": null,
   "metadata": {},
   "outputs": [],
   "source": [
    "from obspy.core.util import AttribDict\n",
    "from obspy.signal.array_analysis import array_processing\n",
    "from obspy.geodetics.base import gps2dist_azimuth\n",
    "from obspy import UTCDateTime, read, read_inventory"
   ]
  },
  {
   "cell_type": "markdown",
   "metadata": {},
   "source": [
    "### Some ObsPy wrapper functions"
   ]
  },
  {
   "cell_type": "code",
   "execution_count": null,
   "metadata": {},
   "outputs": [],
   "source": [
    "from array_processing import get_data, stream2sds\n",
    "from metadata import get_metadata"
   ]
  },
  {
   "cell_type": "markdown",
   "metadata": {},
   "source": [
    "### Configure array parameters"
   ]
  },
  {
   "cell_type": "markdown",
   "metadata": {},
   "source": [
    "The following fields determine the parameters of the station for which we are going to download metadata and waveform data. These parameters will select data of the infrasound array near Freyung Germany, station I26DE. This station is co-located with seismic array GERESS.\n",
    "\n",
    "This station is also part of the <a href='https://www.ctbto.org/map/'>verification network</a> for the Comprehensive Nuclear-Test-Ban Treaty (CTBT). Not all arrays are publicly available, although data can be requested through the CTBT Organisation for research purpoes. More publicly available IMS infrasound arrays can be found through the map webservice of <a href='http://ds.iris.edu/gmap/#network=IM&channel=*DF&planet=earth'>IRIS</a>.\n",
    "\n",
    "There are also many other non-IMS infrasound stations and arrays, as can be seen on the following <a href='http://ds.iris.edu/gmap/#channel=*DF&network=*&planet=earth'>map</a>.\n"
   ]
  },
  {
   "cell_type": "code",
   "execution_count": null,
   "metadata": {},
   "outputs": [],
   "source": [
    "network = 'GR'\n",
    "array = 'I26DE'\n",
    "channel = 'BDF'\n",
    "station = 'I26*'\n",
    "location = '*'"
   ]
  },
  {
   "cell_type": "markdown",
   "metadata": {},
   "source": [
    "Typically when processing data, it is useful to first download the necessary datafiles and store them locally in your working directory. If you want to re-process the data, you don't have to go through the download process again.\n",
    "\n",
    "This is the procedure that we are going to follow here:\n",
    "\n",
    "1. First download the station metadata, also called 'inventory'. This inventory is stored as a StationXML file. We are going to analyze this inventory because it will tell us about the station characteristics.\n",
    "\n",
    "2. Using the inventory, we are going to download the waveform data into an ObsPy Stream. This stream is then written to a local mseed volume, which can be easily queried using ObsPy built-in functions.\n",
    "\n",
    "After the 'getting' part is done, we will proceed with the 'processing'.\n",
    "\n",
    "_______________\n",
    "\n",
    "The following variables determine the names of the FDSN webservices and the local directories that we are going to use."
   ]
  },
  {
   "cell_type": "code",
   "execution_count": null,
   "metadata": {},
   "outputs": [],
   "source": [
    "fid_inv = '{}.{}.xml'.format(network,array)\n",
    "fid_mseed = '{}.{}.mseed'.format(network,array)\n",
    "sds_root = 'data'\n",
    "\n",
    "routing_type = 'iris-federator'\n",
    "#routing_type = 'eida-routing'\n",
    "metadata_source_remote = dict(fdsn=routing_type)\n",
    "waveform_source_remote = dict(fdsn=routing_type)\n",
    "\n",
    "metadata_source_local = dict(local=fid_inv)\n",
    "waveform_source_local = dict(local=sds_root)"
   ]
  },
  {
   "cell_type": "markdown",
   "metadata": {},
   "source": [
    "## Get data"
   ]
  },
  {
   "cell_type": "markdown",
   "metadata": {},
   "source": [
    "### 1. Metadata"
   ]
  },
  {
   "cell_type": "code",
   "execution_count": null,
   "metadata": {},
   "outputs": [],
   "source": [
    "inv = get_metadata(metadata_source_remote, network=network, station=station,\n",
    "                   location=location, channel=channel, starttime=event_day_t0, endtime=event_day_t1)\n",
    "\n",
    "print(inv)\n",
    "inv.write(fid_inv, 'STATIONXML')"
   ]
  },
  {
   "cell_type": "markdown",
   "metadata": {},
   "source": [
    "#### Compute distance, azimuth and back azimuth\n",
    "\n",
    "Computes the distance between two geographic points on the WGS84 ellipsoid and the forward and backward azimuths between these points. This function will check if you have installed the Python module <a href='http://geographiclib.sf.net'>geographiclib</a> - a very fast module for converting between geographic, UTM, UPS, MGRS, and geocentric coordinates, for geoid calculations, and for solving geodesic problems.\n",
    "\n",
    "Otherwise ObsPy's implemented Vincenty's Inverse formula is used which has known limitations for two nearly antipodal points and is ca. 4x slower."
   ]
  },
  {
   "cell_type": "code",
   "execution_count": null,
   "metadata": {},
   "outputs": [],
   "source": [
    "rcv = inv[0][0][0]\n",
    "(dist_m, azi, bazi) = gps2dist_azimuth(origin.latitude, origin.longitude, rcv.latitude, rcv.longitude)\n",
    "dist_km = dist_m / 1e3\n",
    "\n",
    "print(f'Source-receiver distance {dist_km:.2f} km')\n",
    "print(f'Source-receiver azimuth {azi:.2f} degrees')\n",
    "print(f'Source-receiver back-azimuth {bazi:.2f} degrees')"
   ]
  },
  {
   "cell_type": "markdown",
   "metadata": {},
   "source": [
    "### 2. Waveform data"
   ]
  },
  {
   "cell_type": "markdown",
   "metadata": {},
   "source": [
    "First determine the timespan of interest. Here we'll define the starttime as a minute prior to the origin time as starttime and the endtime as the origin time plus the time it would take for a wave with a speed of 0.15 km/s to reach the station. We call this speed of 0.15 km/s a **celerity**.\n",
    "\n",
    "Infrasonic waves typically propagate through the atmopshere with celerities between 210 m/s and 360 m/s.\n",
    "However, we will see that the celerities may be higher than this range. "
   ]
  },
  {
   "cell_type": "code",
   "execution_count": null,
   "metadata": {},
   "outputs": [],
   "source": [
    "celerity_min = 0.15\n",
    "t0 = origin.time - 60\n",
    "t1 = origin.time + dist_km / celerity_min\n",
    "\n",
    "t0 = t0.replace(second=0, microsecond=0)\n",
    "t1 = t1.replace(second=0, microsecond=0)\n",
    "print(t0,t1)"
   ]
  },
  {
   "cell_type": "code",
   "execution_count": null,
   "metadata": {},
   "outputs": [],
   "source": [
    "margin = 10\n",
    "sample_rate = 1.0/inv[0][0][0].sample_rate\n",
    "st = get_data(waveform_source_remote, inventory=inv, starttime=t0-margin, endtime=t1-sample_rate+margin)\n",
    "st.trim(t0,t1)\n",
    "#st.write(fid_mseed, 'mseed')\n",
    "print(st)"
   ]
  },
  {
   "cell_type": "code",
   "execution_count": null,
   "metadata": {},
   "outputs": [],
   "source": [
    "stream2sds(st, path_root=sds_root)"
   ]
  },
  {
   "cell_type": "markdown",
   "metadata": {},
   "source": [
    "## Processing data"
   ]
  },
  {
   "cell_type": "markdown",
   "metadata": {},
   "source": [
    "### 1. Metadata"
   ]
  },
  {
   "cell_type": "code",
   "execution_count": null,
   "metadata": {},
   "outputs": [],
   "source": [
    "inv = read_inventory(fid_inv)"
   ]
  },
  {
   "cell_type": "code",
   "execution_count": null,
   "metadata": {},
   "outputs": [],
   "source": [
    "fig = inv.plot(projection='local')"
   ]
  },
  {
   "cell_type": "code",
   "execution_count": null,
   "metadata": {},
   "outputs": [],
   "source": [
    "ref_ele = inv.get_contents()['channels'][0]\n",
    "resp = inv.get_response(ref_ele, event_day_t0)\n",
    "print(resp)\n",
    "fig = inv.plot_response(1e-3)"
   ]
  },
  {
   "cell_type": "code",
   "execution_count": null,
   "metadata": {},
   "outputs": [],
   "source": [
    "rcv = inv[0][0][0]\n",
    "(dist_m, azi, bazi) = gps2dist_azimuth(origin.latitude, origin.longitude, rcv.latitude, rcv.longitude)\n",
    "dist_km = dist_m / 1e3\n",
    "\n",
    "print(f'Source-receiver distance {dist_km:.2f} km')\n",
    "print(f'Source-receiver azimuth {azi:.2f} degrees')\n",
    "print(f'Source-receiver back-azimuth {bazi:.2f} degrees')"
   ]
  },
  {
   "cell_type": "code",
   "execution_count": null,
   "metadata": {},
   "outputs": [],
   "source": [
    "t0 = origin.time - 60\n",
    "t1 = origin.time + dist_km / celerity_min\n",
    "\n",
    "t0 = t0.replace(second=0, microsecond=0)\n",
    "t1 = t1.replace(second=0, microsecond=0)\n",
    "print(t0,t1)"
   ]
  },
  {
   "cell_type": "markdown",
   "metadata": {},
   "source": [
    "### 2. Waveform data"
   ]
  },
  {
   "cell_type": "code",
   "execution_count": null,
   "metadata": {},
   "outputs": [],
   "source": [
    "st = get_data(waveform_source_local, inventory=inv, starttime=t0, endtime=t1)\n",
    "#st = read(fid_mseed)\n",
    "#st.trim(t0, t1)"
   ]
  },
  {
   "cell_type": "code",
   "execution_count": null,
   "metadata": {},
   "outputs": [],
   "source": [
    "fig = st.plot()"
   ]
  },
  {
   "cell_type": "markdown",
   "metadata": {},
   "source": [
    "#### Deconvolve instrument response (to go from \"counts\" to \"pascals\")"
   ]
  },
  {
   "cell_type": "code",
   "execution_count": null,
   "metadata": {},
   "outputs": [],
   "source": [
    "f_min = 0.1\n",
    "f_max = 9.0\n",
    "\n",
    "pre_filt = [0.9*f_min, f_min, f_max, 1.1*f_max]\n",
    "st.remove_response(inventory=inv, pre_filt=pre_filt)\n",
    "\n",
    "st.taper(0.1)\n",
    "st.trim(t0, t1)\n",
    "\n",
    "fig = st.plot()"
   ]
  },
  {
   "cell_type": "markdown",
   "metadata": {},
   "source": [
    "#### Spectral analysis"
   ]
  },
  {
   "cell_type": "code",
   "execution_count": null,
   "metadata": {},
   "outputs": [],
   "source": [
    "tr = st[0]\n",
    "\n",
    "print(tr)\n",
    "w  = tr.data\n",
    "Fs = tr.stats.sampling_rate\n",
    "t_unix = tr.times('timestamp')\n",
    "t_mpl = tr.times('matplotlib')"
   ]
  },
  {
   "cell_type": "code",
   "execution_count": null,
   "metadata": {},
   "outputs": [],
   "source": [
    "from scipy import signal\n",
    "from datetime import timedelta\n",
    "\n",
    "window_length = 30.0\n",
    "segment_size = int(window_length*Fs)\n",
    "oversampling = 4\n",
    "overlap = 95.0\n",
    "f_min = 1/window_length\n",
    "\n",
    "(f, tf, Pxx) = signal.spectrogram(w, Fs,  \n",
    "                                  window=('hanning'),\n",
    "                                  nperseg=segment_size, \n",
    "                                  nfft=oversampling*segment_size, \n",
    "                                  noverlap=(overlap/100)*segment_size,\n",
    "                                  scaling='density'\n",
    "                                 )\n",
    "tf_vec = [timedelta(seconds=t) + tr.stats.starttime.datetime for t in tf ]\n",
    "tf_mpl = mdates.date2num(tf_vec)\n",
    "\n",
    "# Select the frequencies of interest\n",
    "idx = np.where((f>=f_min) & (f<=f_max))\n",
    "Pxx = Pxx[idx]\n",
    "f = f[idx]\n",
    "\n",
    "# Convert to dB re 20e-6 Pa/sqrt(Hz)\n",
    "P_ref = 20.0e-6\n",
    "Pxx_dB = 10*np.log10(np.sqrt(Pxx)/np.power(P_ref,2))"
   ]
  },
  {
   "cell_type": "markdown",
   "metadata": {},
   "source": [
    "#### Plotting spectrogram"
   ]
  },
  {
   "cell_type": "code",
   "execution_count": null,
   "metadata": {},
   "outputs": [],
   "source": [
    "# Compute timestamp for celerities\n",
    "\n",
    "celerities = np.array([7.0, 3.0, 1.0, 0.5, 0.34, 0.3, 0.25, 0.21])\n",
    "celerity_t = np.zeros(celerities.shape)\n",
    "\n",
    "for i, celerity in enumerate(celerities):\n",
    "    celerity_t[i] = mdates.epoch2num(origin.time.timestamp + dist_km / celerity)"
   ]
  },
  {
   "cell_type": "code",
   "execution_count": null,
   "metadata": {},
   "outputs": [],
   "source": [
    "#############################################\n",
    "# Ploting parameters\n",
    "\n",
    "amp_min = -1.0\n",
    "amp_max =  1.0\n",
    "\n",
    "dB_min =  60.0\n",
    "dB_max =  85.0\n",
    "\n",
    "pt0 = t0.datetime\n",
    "pt1 = t1.datetime\n",
    "\n",
    "#############################################\n",
    "\n",
    "\n",
    "n_frames = 2\n",
    "fig, ax = plt.subplots(n_frames, 1, sharex=True, figsize=(8,4), constrained_layout=True)\n",
    "\n",
    "formatter = ScalarFormatter()\n",
    "formatter.set_scientific(False)\n",
    "\n",
    "########################################################################################\n",
    "# Waveform\n",
    "i = 0\n",
    "\n",
    "ax[i].axhline(y=0, color='black', linewidth=1, linestyle=':')\n",
    "ax[i].plot(t_mpl, w, 'k', linewidth=0.7)\n",
    "#ax[i].set_ylim(amp_min,amp_max)\n",
    "#ax[i].yaxis.set_minor_locator(MultipleLocator(0.1))\n",
    "ax[i].set(ylabel='Pressure (Pa)')\n",
    "\n",
    "########################################################################################\n",
    "## Spectrogram\n",
    "i += 1\n",
    "extent = (t_mpl[0], t_mpl[-1], f_min, f_max)\n",
    "im = ax[i].imshow(Pxx_dB, origin='lower', extent=extent, cmap='turbo',\n",
    "             vmin=dB_min, vmax=dB_max, interpolation='bilinear')\n",
    "ax[i].set_yscale('log')\n",
    "ax[i].set(ylabel='Frequency (Hz)')\n",
    "ax[i].axis('tight')\n",
    "ax[i].set_aspect('auto')\n",
    "ax[i].set_ylim([f_min, f_max])\n",
    "ax[i].grid()\n",
    "ax[i].yaxis.set_major_formatter(formatter)\n",
    "ax[i].yaxis.set_major_locator(FixedLocator([0.3, 1.0, 3.0]))\n",
    "# Add colorbar\n",
    "cbar_label = 'PSD [dB re {} Pa]'.format(P_ref)\n",
    "plt.colorbar(im, ax=ax[i], label=cbar_label, extend='max')\n",
    "\n",
    "# Plot celerity axis\n",
    "ax_celerity = ax[i].twiny()\n",
    "ax_celerity.set_xlim(t_mpl[0], t_mpl[-1])\n",
    "ax_celerity.set_xticks(celerity_t)\n",
    "ax_celerity.set_xticklabels(celerities)\n",
    "ax_celerity.set_xlabel('Celerity (km/s)')\n",
    "\n",
    "########################################################################################\n",
    "########################################################################################\n",
    "## Finalizing plot\n",
    "ax[i].set_xlim([pt0, pt1])\n",
    "\n",
    "## Datetime formatting \n",
    "\n",
    "# Choose your xtick format string\n",
    "date_fmt = '%d %b\\n%H:%M'\n",
    "\n",
    "# Use a DateFormatter to set the data to the correct format.\n",
    "date_formatter = mdates.DateFormatter(date_fmt)\n",
    "ax[n_frames-1].xaxis.set_major_formatter(date_formatter)\n",
    "ax[n_frames-1].tick_params(axis='x', rotation=45)\n",
    "\n",
    "## Title plot\n",
    "station_id = '{network}.{station}.{location}.{channel}'.format(\n",
    "    network=tr.stats.network,\n",
    "    station=tr.stats.station,\n",
    "    location=tr.stats.location,\n",
    "    channel=tr.stats.channel\n",
    "    )\n",
    "title_str = '%s' % ( station_id)\n",
    "ax[0].set_title(title_str)\n",
    "\n",
    "## Credits\n",
    "author = '\\xa9 2021 ROSES 2021 class'\n",
    "fdsn_center = waveform_source_remote['fdsn']\n",
    "data_source = f'Data: CTBTO | {fdsn_center}'\n",
    "\n",
    "fig.text(.1, -0.02-0.02, author, ha='left', size=7)\n",
    "fig.text(.1, -0.04-0.04, data_source, ha='left', size=7)\n",
    "\n",
    "plt.show()\n",
    "fid = f'{station_id}.{pt0:%Y%m%d-%H%M}.spectrogram.pdf'\n",
    "fig.savefig(fid, dpi=300, facecolor='white', bbox_inches='tight')"
   ]
  },
  {
   "cell_type": "code",
   "execution_count": null,
   "metadata": {},
   "outputs": [],
   "source": [
    "f_min = 0.3\n",
    "f_max = 3.0\n",
    "\n",
    "st.filter('bandpass', freqmin=f_min, freqmax=f_max, corners=4, zerophase=True)\n",
    "\n",
    "tr = st[0]\n",
    "w  = tr.data\n",
    "Fs = tr.stats.sampling_rate\n",
    "t_unix = tr.times('timestamp')\n",
    "t_mpl = tr.times('matplotlib')"
   ]
  },
  {
   "cell_type": "code",
   "execution_count": null,
   "metadata": {},
   "outputs": [],
   "source": [
    "fig = st.plot()"
   ]
  },
  {
   "cell_type": "markdown",
   "metadata": {},
   "source": [
    "## Array processing"
   ]
  },
  {
   "cell_type": "markdown",
   "metadata": {},
   "source": [
    "- A good & practical introduction to this topic can be found in the ROSES 2020 module that was taught by <a href='https://github.com/fdannemanndugick/roses2020/blob/master/unit05/array_processing.pdf'>Prof. Stephen Arrowsmith</a> at SMU, Dallas, TX.\n",
    "<br/>\n",
    "\n",
    "- We will work here with the array analysis modules that are implemented in ObsPy. These modules are examples of basic good-ole' FK array processing routines that have been the workhorse algorithms for many studies.\n",
    "<br/>\n",
    "\n",
    "- Similar routines can be found <a href='https://github.com/jdassink/beamforming'>My GitHub page</a> (FORTRAN). I have optimized them a little more so large volumes of data can be processed quicker. References are included too. Even further optimized Python-FORTRAN versions of these modules have been developed by the seismo-acoustics team @ Delft University of Technology and KNMI and will be published in the future.\n",
    "<br/>\n",
    "\n",
    "- A study on CLEAN beamforming for the enhanced detection of multiple infrasonic sources was published by <a href='https://doi.org/10.1093/gji/ggaa010'>Olivier den Ouden et al.</a> in 2020."
   ]
  },
  {
   "cell_type": "markdown",
   "metadata": {},
   "source": [
    "### Array response"
   ]
  },
  {
   "cell_type": "code",
   "execution_count": null,
   "metadata": {},
   "outputs": [],
   "source": [
    "from obspy.signal.array_analysis import array_transff_freqslowness, get_geometry"
   ]
  },
  {
   "cell_type": "markdown",
   "metadata": {},
   "source": [
    "To study the spectral properties of beamform techniques, it is instructive to evaluate the array response, which is defined as the f/k spectrum $P(f,\\vec{k})$ for a monochromatic wave with unit amplitude or $G(f_{0},\\vec{k}_{0}) = e^{i \\vec{k}_0 \\cdot \\vec{r}}$, for which $k_0 = \\frac{2 \\pi f_0}{c}$. \n",
    "\n",
    "The normalized array response for the Bartlett beamformer is defined as:\n",
    "\n",
    "$R(f_{0}, \\vec{k} ;\\vec{k}_{0}) = \\frac{1}{N}\\sum_{n=1}^{N} e^{i (\\vec{k}-\\vec{k}_0) \\cdot \\vec{r}_n}$\n",
    "\n",
    "The array response function may consist of several maxima. The absolute maximum is found at $\\vec{k} = \\vec{k}_0$ and corresponds to the main lobe. Several side lobes may appear that are a consequence of the spatial sampling of the wavefield with a discrete number of array elements.\n",
    "\n",
    "In the case of a broadband response, the wavenumber is typically expressed in terms of slowness $\\vec{s} = \\vec{k} / 2\\pi f$.\n",
    "\n",
    "\n",
    "$R(\\vec{s}; \\vec{s}_{0}) = \\frac{1}{N} \\sum_{n=1}^{N} e^{i (\\vec{s}-\\vec{s}_0) \\cdot \\vec{r}_n} = \\int \\frac{1}{N}\\sum_{n=1}^{N} e^{i (\\vec{k}-\\vec{k}_0) \\cdot \\vec{r}_n} \\mathrm{d}f$"
   ]
  },
  {
   "cell_type": "markdown",
   "metadata": {},
   "source": [
    "#### Adding station geometry to Stream and prepare Numpy array for array response evalation"
   ]
  },
  {
   "cell_type": "code",
   "execution_count": null,
   "metadata": {},
   "outputs": [],
   "source": [
    "coords = np.zeros((len(st), 3))\n",
    "i = 0\n",
    "\n",
    "for ms in st:\n",
    "    (net, sta, loc, chan) = ms.id.split('.')\n",
    "    invs = inv.select(network=net, station=sta, location=loc, channel=chan)\n",
    "    ms.stats.coordinates = AttribDict({'latitude': invs[0][0][0].latitude,\n",
    "                                       'longitude': invs[0][0][0].longitude,\n",
    "                                       'elevation': invs[0][0][0].elevation})\n",
    "    coords[i,0] = invs[0][0][0].latitude\n",
    "    coords[i,1] = invs[0][0][0].longitude\n",
    "    coords[i,2] = invs[0][0][0].elevation\n",
    "    i += 1"
   ]
  },
  {
   "cell_type": "code",
   "execution_count": null,
   "metadata": {},
   "outputs": [],
   "source": [
    "# Slowness maximum (in s/km!)\n",
    "slim = 1e3 / 250.0\n",
    "\n",
    "# Slowness steps\n",
    "sstep = slim/50\n",
    "\n",
    "# Defines the frequency range over which the response is evaluated. A wider range takes longer to compute.\n",
    "_f_min = f_min\n",
    "_f_max = f_max\n",
    "fstep = _f_min\n",
    "\n",
    "print(f'Computing Bartlett array response between [{_f_min:.2f} : {fstep:.2f} : {_f_max:.2f}] Hz ..')\n",
    "R = array_transff_freqslowness(coords, slim, sstep, _f_min, _f_max, fstep, coordsys='lonlat')\n",
    "\n",
    "sx = np.arange(-slim, slim+sstep, sstep)\n",
    "sy = sx\n",
    "Sx, Sy = np.meshgrid(sx, sy)"
   ]
  },
  {
   "cell_type": "code",
   "execution_count": null,
   "metadata": {},
   "outputs": [],
   "source": [
    "fig, ax = plt.subplots(1, 2, figsize=(7,3), constrained_layout=True)\n",
    "\n",
    "# Array layout\n",
    "i = 0\n",
    "geo = get_geometry(st, coordsys='lonlat', return_center=False, verbose=False)\n",
    "ax[i].plot(geo[:,0], geo[:,1], '^', color='red', markeredgecolor='black')\n",
    "ax[i].set_xlabel('x-coordinate [km]')\n",
    "ax[i].set_ylabel('y-coordinate [km]')\n",
    "ax[i].set_title(f'{array} layout')\n",
    "\n",
    "# Response function\n",
    "i += 1\n",
    "extent=[-slim, slim, -slim, slim]\n",
    "im = ax[i].imshow(R, extent=extent, origin='lower',\n",
    "                  vmin=0.2, vmax=1.0, cmap='inferno_r',\n",
    "                  aspect='auto')\n",
    "ax[i].set_xlabel('x-slowness [s/km]')\n",
    "ax[i].set_ylabel('y-slowness [s/km]')\n",
    "\n",
    "# Plot slownesses circles for diverse wave classes\n",
    "angles = np.deg2rad(np.arange(0., 360, 1.))\n",
    "slowness = dict(seismic_P=6.0, Rayleigh=3.0, infrasound=0.34)\n",
    "for (key, radius) in slowness.items():\n",
    "    x_circle = np.sin(angles)/radius\n",
    "    y_circle = np.cos(angles)/radius\n",
    "    ax[i].plot(x_circle, y_circle, linestyle='solid', label=key, alpha=0.6)\n",
    "ax[i].legend()\n",
    "ax[i].set_title('Bartlett response')\n",
    "    \n",
    "plt.colorbar(im, ax=ax[i], label='Normalized reponse')\n",
    "\n",
    "plt.show()\n",
    "\n",
    "fid = f'{network}.{array}.{pt0:%Y%m%d-%H%M}.array_response.pdf'\n",
    "fig.savefig(fid, dpi=300, facecolor='white', bbox_inches='tight')"
   ]
  },
  {
   "cell_type": "markdown",
   "metadata": {},
   "source": [
    "### Beamforming"
   ]
  },
  {
   "cell_type": "markdown",
   "metadata": {},
   "source": [
    "The actual processing starts now. We will define a few parameters to configure the beamformer. \n",
    "There are many parameters that you can tweak, but you mostly want to change:\n",
    "\n",
    "- Window length `win_len` (now set to 20 seconds). You want to set the length such that the frequency of interest fits. So larger windows for lower frequencies. And vice versa.\n",
    "<br/>\n",
    "\n",
    "- Overlap parameter `win_frac` (now to set to 0.5 for 50% overlap). Choose 0.25 for 75%, 0.1 for 90% overlap, etc. Basically the smaller the parameter, the more overlap and the longer the computation time. \n",
    "<br/>\n",
    "\n",
    "- Slowness grid: you can modify the parameters that define the grid. Parameter `sstep` defines the density of the grid. The smaller the steps, the longer the computation time. In <a href='https://github.com/jdassink/beamforming'>my own code</a> I prefer to define the slowness grid based on the parameters of interest: the back azimuth and the apparent velocity. Therefore I obtain a cylindrical slowness grid. "
   ]
  },
  {
   "cell_type": "code",
   "execution_count": null,
   "metadata": {},
   "outputs": [],
   "source": [
    "stime = st[0].stats.starttime\n",
    "etime = st[0].stats.endtime\n",
    "sstep = slim/25\n",
    "\n",
    "kwargs = dict(\n",
    "    # slowness grid: X min, X max, Y min, Y max, Slow Step\n",
    "    sll_x=-slim, slm_x=slim, sll_y=-slim, slm_y=slim, sl_s=sstep,\n",
    "    # sliding window properties\n",
    "    win_len=20.0, win_frac=0.5,\n",
    "    # frequency properties\n",
    "    frqlow=f_min, frqhigh=f_max, prewhiten=0,\n",
    "    # restrict output\n",
    "    semb_thres=-1e9, vel_thres=-1e9, timestamp='julsec',\n",
    "    # time bounds\n",
    "    stime=stime, etime=etime\n",
    ")\n",
    "out = array_processing(st, **kwargs)"
   ]
  },
  {
   "cell_type": "markdown",
   "metadata": {},
   "source": [
    "The output of the array processing can now be identified and reworked a little for later plotting.\n",
    "\n",
    "- ObsPy's routines output time, semblance (they call it 'relative power'), FK power (they call it 'absolute power') and the back azimuth (in degrees) and slowness (in s/km).\n",
    "<br/>\n",
    "\n",
    "- FK power is basically the sum of energy on the time-aligned traces.\n",
    "<br/>\n",
    "\n",
    "- Semblance (see <a href='https://github.com/fdannemanndugick/roses2020/blob/master/unit05/array_processing.pdf'>Prof. Arrowsmith's notes</a>) is the beamformed signal normalized by the ambient power from all other directions-of-arrival.\n",
    "<br/>\n",
    "\n",
    "- I compute the Fisher or $F$-statistic (or $F$-ratio) from the Semblance $S$ as $F = (N-1) \\frac{S}{1-S}$. The Fisher statistic is a useful parameter for detection as we will see later. \n",
    "<br/>\n",
    "\n",
    "- Also, the Fisher statistic has desirable statistical properties: under the assumption of stationary white Gaussian noise, the Fisher ratio is unity. Basically any deviation means that there is signal. From the Fisher statistic, you can compute the probability of false alarm given a confidence value. For more background, see the <a href='https://repository.tudelft.nl/islandora/object/uuid%3A4de38d6f-8f68-4706-bf34-4003d3dff0ce'>PhD thesis</a> by Prof. Läslo Evers."
   ]
  },
  {
   "cell_type": "code",
   "execution_count": null,
   "metadata": {},
   "outputs": [],
   "source": [
    "n_instr = len(st)\n",
    "\n",
    "array_proc = dict()\n",
    "array_proc['time'] = mdates.epoch2num(out[:,0])\n",
    "array_proc['semblance'] = out[:, 1]\n",
    "array_proc['fk_power'] = out[:, 2]\n",
    "# Conversion of semblance to Fisher.\n",
    "array_proc['fisher'] = (n_instr-1)* array_proc['semblance'] / (1-array_proc['semblance'])\n",
    "\n",
    "array_proc['bazi'] = out[:, 3] % 360\n",
    "array_proc['app_vel'] = 1e3 / out[:,4]"
   ]
  },
  {
   "cell_type": "markdown",
   "metadata": {},
   "source": [
    "### Plot beamform analysis results"
   ]
  },
  {
   "cell_type": "code",
   "execution_count": null,
   "metadata": {},
   "outputs": [],
   "source": [
    "#############################################\n",
    "# Ploting parameters\n",
    "\n",
    "amp_min = -1.0\n",
    "amp_max =  1.0\n",
    "\n",
    "dB_min =  60.0\n",
    "dB_max =  85.0\n",
    "\n",
    "pt0 = t0.datetime\n",
    "pt1 = t1.datetime\n",
    "\n",
    "############################################\n",
    "\n",
    "# Plot\n",
    "marker_config = dict(alpha=0.6, edgecolors='gray', linewidth=0.2, cmap='inferno_r')\n",
    "\n",
    "n_frames = 6\n",
    "fig, ax = plt.subplots(n_frames, 1, sharex=True, figsize=(8,9), constrained_layout=True)\n",
    "\n",
    "formatter = ScalarFormatter()\n",
    "formatter.set_scientific(False)\n",
    "\n",
    "det_stat = {'Fisher': array_proc['fisher']}\n",
    "det_values = list(det_stat.values())[0]\n",
    "\n",
    "########################################################################################\n",
    "# Spectrogram\n",
    "i = 0\n",
    "extent = (t_mpl[0], t_mpl[-1], f_min, f_max)\n",
    "im = ax[i].imshow(Pxx_dB, origin='lower', extent=extent, cmap='turbo',\n",
    "             vmin=dB_min, vmax=dB_max, interpolation='bilinear')\n",
    "ax[i].set_yscale('log')\n",
    "ax[i].set(ylabel='Frequency (Hz)')\n",
    "ax[i].axis('tight')\n",
    "ax[i].set_aspect('auto')\n",
    "ax[i].set_ylim([f_min, f_max])\n",
    "ax[i].grid()\n",
    "ax[i].yaxis.set_major_formatter(formatter)\n",
    "ax[i].yaxis.set_major_locator(FixedLocator([0.3, 1.0, 3.0]))\n",
    "\n",
    "# Add colorbar\n",
    "cbar_label = 'PSD [dB re {} Pa]'.format(P_ref)\n",
    "plt.colorbar(im, ax=ax[i], label=cbar_label, extend='max')\n",
    "\n",
    "########################################################################################\n",
    "# Waveform\n",
    "i += 1\n",
    "ax[i].axhline(y=0, color='black', linewidth=1, linestyle=':')\n",
    "ax[i].plot(t_mpl, w, 'k', linewidth=0.7)\n",
    "#ax[i].set_ylim(amp_min,amp_max)\n",
    "#ax[i].yaxis.set_minor_locator(MultipleLocator(0.1))\n",
    "ax[i].set(ylabel='Pressure (Pa)')\n",
    "# Plot celerity axis\n",
    "ax_celerity = ax[i].twiny()\n",
    "ax_celerity.set_xlim(t_mpl[0], t_mpl[-1])\n",
    "ax_celerity.set_xticks(celerity_t)\n",
    "ax_celerity.set_xticklabels(celerities)\n",
    "ax_celerity.set_xlabel('Celerity (km/s)')\n",
    "\n",
    "########################################################################################\n",
    "# Back azimuth\n",
    "i += 1\n",
    "ax[i].axhline(y=bazi, linestyle='dotted', alpha=0.5, color='black')\n",
    "im = ax[i].scatter(array_proc['time'], array_proc['bazi'], c=det_values, **marker_config)\n",
    "ax[i].yaxis.set_major_locator(MultipleLocator(90))\n",
    "# Add colorbar\n",
    "cbar_label = list(det_stat.keys())[0]\n",
    "plt.colorbar(im, ax=ax[i], label=cbar_label, extend='max')\n",
    "ax[i].set(ylabel='Back azi. (deg.)')\n",
    "\n",
    "########################################################################################\n",
    "# Apparent (trace) velocity\n",
    "i += 1\n",
    "im = ax[i].scatter(array_proc['time'], array_proc['app_vel'], c=det_values, **marker_config)\n",
    "\n",
    "# Make upper part apparent velocity axis (logarithmic scaling)\n",
    "ax[i].set_ylim([450, 10e3])\n",
    "ax[i].set(ylabel='App. velo (m/s)')\n",
    "ax[i].set_yscale('log')\n",
    "ax[i].yaxis.set_major_formatter(formatter)\n",
    "ax[i].yaxis.set_major_locator(FixedLocator([1000, 3000, 6000]))\n",
    "\n",
    "# Lower part apparent velocity axis (linear scaling)\n",
    "ax[i+1].set_ylim([300, 450])\n",
    "ax[i+1].axhline(y=340.0, linestyle='dotted', alpha=0.5, color='black')\n",
    "im = ax[i+1].scatter(array_proc['time'], array_proc['app_vel'], c=det_values, **marker_config)\n",
    "\n",
    "# Do the diagnonal lines\n",
    "\n",
    "d = .01  # how big to make the diagonal lines in axes coordinates\n",
    "# arguments to pass to plot, just so we don't keep repeating them\n",
    "kwargs = dict(transform=ax[i].transAxes, color='k', clip_on=False)\n",
    "ax[i].plot((-d, +d), (-d, +d), **kwargs)        # top-left diagonal\n",
    "ax[i].plot((1 - d, 1 + d), (-d, +d), **kwargs)  # top-right diagonal\n",
    "\n",
    "kwargs.update(transform=ax[i+1].transAxes)  # switch to the bottom axes\n",
    "ax[i+1].plot((-d, +d), (1 - d, 1 + d), **kwargs)  # bottom-left diagonal\n",
    "ax[i+1].plot((1 - d, 1 + d), (1 - d, 1 + d), **kwargs)  # bottom-right diagonal\n",
    "\n",
    "# hide the spines between the two axis\n",
    "ax[i].spines['bottom'].set_visible(False)\n",
    "ax[i+1].spines['top'].set_visible(False)\n",
    "ax[i].xaxis.tick_top()\n",
    "ax[i].tick_params(labeltop=False)  # don't put tick labels at the top\n",
    "ax[i+1].xaxis.tick_bottom()\n",
    "\n",
    "########################################################################################\n",
    "# Fisher and FK power\n",
    "i += 2\n",
    "ax[i].plot(array_proc['time'], array_proc['fisher'], 'C0', linewidth=1.5)\n",
    "ax[i].set_ylim([array_proc['fisher'].min(), array_proc['fisher'].max()])\n",
    "ax[i].set_ylim([array_proc['fisher'].min(), 35])\n",
    "ax[i].set_ylabel('Fisher', color='C0')\n",
    "\n",
    "axr = ax[i].twinx()\n",
    "axr.plot(array_proc['time'], array_proc['fk_power'], 'r', alpha=0.5)\n",
    "axr.set_ylim([array_proc['fk_power'].min(), array_proc['fk_power'].max()])\n",
    "axr.set_ylabel('FK power', color='red')\n",
    "\n",
    "########################################################################################\n",
    "########################################################################################\n",
    "## Finalizing plot\n",
    "\n",
    "ax[0].set_xlim([pt0, pt1])\n",
    "\n",
    "## Datetime formatting \n",
    "# Choose your xtick format string\n",
    "date_fmt = '%d %b\\n%H:%M'\n",
    "\n",
    "# Use a DateFormatter to set the data to the correct format.\n",
    "date_formatter = mdates.DateFormatter(date_fmt)\n",
    "ax[n_frames-1].xaxis.set_major_formatter(date_formatter)\n",
    "ax[n_frames-1].tick_params(axis='x', rotation=45)\n",
    "# Sets the tick labels diagonal so they fit easier.\n",
    "#fig.autofmt_xdate(rotation=70)\n",
    "\n",
    "event_type = event.event_type.capitalize()\n",
    "event_description = event.event_descriptions[0].text\n",
    "title_str = (f'{event.short_str()}\\n{event_type} | '\n",
    "             f'{array} beamforming analysis ({dist_km:.2f} km, {bazi:.2f} deg)')\n",
    "ax[0].set_title(title_str)\n",
    "\n",
    "fig.align_ylabels(ax)\n",
    "\n",
    "## Credits\n",
    "author = '\\xa9 2021 ROSES 2021 class'\n",
    "fdsn_center = waveform_source_remote['fdsn']\n",
    "data_source = f'Data: CTBTO | {fdsn_center}'\n",
    "\n",
    "fig.text(.1, -0.02-0.02, author, ha='left', size=7)\n",
    "fig.text(.1, -0.04-0.02, data_source, ha='left', size=7)\n",
    "\n",
    "plt.show()\n",
    "\n",
    "fid = f'{network}.{array}.{pt0:%Y%m%d-%H%M}.beamforming.pdf'\n",
    "fig.savefig(fid, dpi=300, facecolor='white', bbox_inches='tight')"
   ]
  },
  {
   "cell_type": "markdown",
   "metadata": {},
   "source": [
    "### FK analysis to supplement array-analysis-as-function-of-time"
   ]
  },
  {
   "cell_type": "markdown",
   "metadata": {},
   "source": [
    "The upper plot is a typical array processing plot. It shows slowness parameters (converted to back azimuth and apparent velocity) that correspond to the most dominant wave arrival, per time-bin.\n",
    "\n",
    "It can be useful to complement this analysis with FK analysis that shows full slowness grid. Such analyses are helpful in understanding the 'FK response' that has been computed with the dataset and the chosen set of parameters. \n",
    "\n",
    "In addition it also helps to understand if any sidelobes with major amplitude levels exist. The existence of such sidelobes occurs due to spatial aliasing. Not identifying these sidelobes as such could lead to misinterpretation.\n",
    "\n",
    "\n",
    "<a href='https://doi.org/10.1093/gji/ggaa010'>CLEAN beamforming</a> can be used to deconvolve the array response from the FK analysis. This can help to identify multiple sources that could be present in the array waveforms. As that study shows, it is important that the initial FK analysis is not biased. This could for example be case when Bartlett's beam is used. Compared to Capon's beam, Bartlett's beam provides a lower resolution.\n",
    "\n",
    "Capon's beam is mathematically a little more involved and requires judicious setting of parameters. In this ROSES module, we will not treat Capon.\n"
   ]
  },
  {
   "cell_type": "code",
   "execution_count": null,
   "metadata": {},
   "outputs": [],
   "source": [
    "from array_processing import plotFK"
   ]
  },
  {
   "cell_type": "code",
   "execution_count": null,
   "metadata": {},
   "outputs": [],
   "source": [
    "time_start = UTCDateTime('2016-08-24T02:15:00')\n",
    "time_end = UTCDateTime('2016-08-24T02:20:00')\n",
    "\n",
    "_f_min = f_min\n",
    "_f_max = f_max\n",
    "\n",
    "(fig, ax) = plotFK(st, time_start, time_end, _f_min, _f_max, \n",
    "                   # slowness grid: X min, X max, Y min, Y max, Slow Step\n",
    "                   sll_x=-slim, slm_x=slim, sll_y=-slim, slm_y=slim, sl_s=sstep,\n",
    "                   normalize=False, beam='bartlett', prewhiten=0,\n",
    "                   cmap='inferno_r', interpolation='bilinear',\n",
    "                   sl_circle=True, plot_normalize=False)\n",
    "\n",
    "fid = f'{network}.{array}.{time_start.datetime:%Y%m%d-%H%M}.FK.pdf'\n",
    "fig.savefig(fid, dpi=300, facecolor='white', bbox_inches='tight')"
   ]
  },
  {
   "cell_type": "markdown",
   "metadata": {},
   "source": [
    "Note the reduced sidelobes when the FK spectrum is expressed by the Fisher ratio"
   ]
  },
  {
   "cell_type": "markdown",
   "metadata": {},
   "source": [
    "# Bonus excercise 1"
   ]
  },
  {
   "cell_type": "markdown",
   "metadata": {},
   "source": [
    "Carry out the seismo-acoustic analysis for the other M6 earthquakes from the 2016 Central Italy sequence for array GR.I26DE\n",
    "\n",
    "Investigate the results. Google Earth is a useful tool. Which differences do you see? Can you relate the observations to features on the Earth surface?"
   ]
  },
  {
   "cell_type": "markdown",
   "metadata": {},
   "source": [
    "# Bonus excercise 2"
   ]
  },
  {
   "cell_type": "markdown",
   "metadata": {},
   "source": [
    "- Perform an analysis for the 29 December 2020 Petrinja, Croatia earthquake. Try to include as many arrays as possible in your analysis. \n",
    "\n",
    "- Make use of IRIS' <a href='http://ds.iris.edu/gmap/#channel=*DF&network=*&planet=earth'>map</a> service and a seismic catalog of your preference.\n",
    "\n",
    "- Consider which frequency bands are appropriate in the analysis. You may have to adjust the processing parameters, depending on the characteristics of your array.<br/>\n",
    "\n",
    "- Map out where the energy appears to be coming from."
   ]
  },
  {
   "cell_type": "markdown",
   "metadata": {},
   "source": [
    "# Bonus excercise 3"
   ]
  },
  {
   "cell_type": "markdown",
   "metadata": {},
   "source": [
    "Can you find a relation between the intensity of the earthquake and the power measured on the array?\n",
    "\n",
    "For this excercise it is best to analyse an array that is located near a region with a lot of earthquakes. \n",
    "I53US for example.\n",
    "\n",
    "You can try to query the <a href='https://earthquake.usgs.gov/earthquakes/search/'>USGS database</a> based on the intensity."
   ]
  },
  {
   "cell_type": "markdown",
   "metadata": {},
   "source": [
    "# Super bonus"
   ]
  },
  {
   "cell_type": "markdown",
   "metadata": {},
   "source": [
    "It is possible to back-project the detections to spots on the Earth surface. A recipe for an algorithm can be found in <a href='https://doi.org/10.1002/2017GL076125'>this study</a>.\n",
    "\n",
    "Can you try to replicate Figure 3 of this study?"
   ]
  }
 ],
 "metadata": {
  "kernelspec": {
   "display_name": "roses_2021",
   "language": "python",
   "name": "roses_2021"
  },
  "language_info": {
   "codemirror_mode": {
    "name": "ipython",
    "version": 3
   },
   "file_extension": ".py",
   "mimetype": "text/x-python",
   "name": "python",
   "nbconvert_exporter": "python",
   "pygments_lexer": "ipython3",
   "version": "3.9.5"
  }
 },
 "nbformat": 4,
 "nbformat_minor": 4
}
