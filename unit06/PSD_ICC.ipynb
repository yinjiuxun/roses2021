{
 "cells": [
    {
   "cell_type": "markdown",
   "metadata": {},
   "source": [
    "![](https://raw.githubusercontent.com/fdannemanndugick/roses2021/main/header.png)"
   ]
  },  {
   "cell_type": "markdown",
   "metadata": {},
   "source": [
    "# <big>Digital Signal Processing (DSP): Introductory Crash Course</big>\n",
    "\n",
    "<br><big>Here we will explore some topics in DSP using seismic data.<br>\n",
    "\n",
    "By David L. Guenaga and Aaron A. Velasco</big>\n",
    "\n",
    "---"
   ]
  },
  {
   "cell_type": "markdown",
   "metadata": {},
   "source": [
    "# <big>Setup</big>\n",
    "<br>\n",
    "**<big><big><font color='red'>Make sure to run these cells before proceeding!</font></big></big>**\n",
    "<br>\n",
    "### Python packages\n",
    "\n",
    "<big>Packages contain modules with functions, classes, or wrappers (i.e., previously written code to use in for new scripts).</big>"
   ]
  },
  {
   "cell_type": "code",
   "execution_count": null,
   "metadata": {
    "scrolled": true
   },
   "outputs": [],
   "source": [
    "import DSP_ICC_lib as dsp  # Custom python package for this Jupyter Notebook demonstration.\n",
    "import numpy as np # For discretized compution and array manipulation (https://numpy.org/).\n",
    "import obspy  # For processing seismological data (https://docs.obspy.org/).\n",
    "import pandas as pd # For constructing and maintatining discretized data (https://pandas.pydata.org/).\n",
    "from scipy import signal, fft  # For conducting signal processing (https://www.scipy.org/)\n",
    "\n",
    "# Plotly for interactive figure creation (https://plotly.com/python/).\n",
    "import plotly.graph_objects as go  # To create, manipulate, and render Ploty figures.\n",
    "from plotly.subplots import make_subplots"
   ]
  },
  {
   "cell_type": "markdown",
   "metadata": {},
   "source": [
    "---"
   ]
  },
  {
   "cell_type": "markdown",
   "metadata": {},
   "source": [
    "# <big>(1) Discrete Signals</big>\n",
    "## Digital Signal Creation\n",
    "<br>\n",
    "<big>To start, let us create as simple (digital) sine wave signal.</big>\n",
    "<br>\n",
    "<big>Sine wave equation:\n",
    "<br><br>\n",
    "*&emsp;&emsp;&emsp;&emsp;&emsp;&emsp;&emsp;&emsp;&emsp;&emsp;&emsp;f ( t ) = A sin( ω t + ρ )*\n",
    "<br><br>\n",
    "*t* = time (s) <br>*A* = Amplitude <br>*ω* = frequency (Hz) <br>*ρ* = phase shift</big>\n",
    "\n",
    "<br><big>Below is some code to calculate the sine wave for 0s ≤ *t* < 4s (sampled at 50 Hz) with an amplitude of **2**, frequency of **10** Hz, and phase shift of **0.9**.</big>"
   ]
  },
  {
   "cell_type": "code",
   "execution_count": null,
   "metadata": {},
   "outputs": [],
   "source": [
    "# Given\n",
    "sps1 = 50                     # Samples per second (sample rate).\n",
    "t1 = np.arange(0, 4, 1/sps1)  # Create an time array from 0-10 for given sample rate.\n",
    "A1 = 2                        # Amplitude \n",
    "omega1 = 10                   # Frequency\n",
    "rho1 = 0.9                    # Phase Shift\n",
    "\n",
    "\n",
    "y1 = A1 * np.sin(omega1 * t1 + rho1) # Calculate sine function\n",
    "\n",
    "# Plot\n",
    "fig_1 = dsp.discrete_plot(t1, y1)\n",
    "fig_1.update_layout(title='Waveform Signal [sps = '+str(sps1)+']', # Format plot layout\n",
    "                     yaxis_zeroline=False, xaxis_zeroline=False)"
   ]
  },
  {
   "cell_type": "markdown",
   "metadata": {},
   "source": [
    "## Decimation (a.k.a. Downsampling)\n",
    "<br><big> Bellow is some code to decrease the sample of the sine wave above by a factor of **4**.</big>"
   ]
  },
  {
   "cell_type": "code",
   "execution_count": null,
   "metadata": {
    "scrolled": false
   },
   "outputs": [],
   "source": [
    "# Decimation\n",
    "dec_factor1 = 4             # Decimation Factor\n",
    "y_dec1 = y1[::dec_factor1]  # Decimate signal\n",
    "t_dec1 = t1[::dec_factor1]  # Resample time to match decimated signal\n",
    "\n",
    "# Plot\n",
    "fig_2 = dsp.discrete_plot(t_dec1, y_dec1)                                      # Create intial plot\n",
    "fig_2.add_trace(go.Scatter(x=t1, y=y1, mode='lines+markers', name='Orignial',  # Add original signal to plot\n",
    "                            line=dict(color='black', width=0.5), opacity=0.3,\n",
    "                            marker=dict(size=6), marker_symbol='circle-open'))\n",
    "fig_2.update_layout(title='Decimated Signal [sps ≈ '+str(int(round(len(t_dec1)/np.nanmax(t1),1)) )+']',\n",
    "                     yaxis_zeroline=False, xaxis_zeroline=False)  # Format plot layout\n",
    "fig_2.show()"
   ]
  },
  {
   "cell_type": "markdown",
   "metadata": {},
   "source": [
    "<br><big>**(1a)** Decimate the orignial signal (i.e., start with *y1* and *t1*) by a factor of **25**. Set the decimated sample measuremnts and sample time equal to *y_dec2* and *t_dec2*, respectively.</big>"
   ]
  },
  {
   "cell_type": "code",
   "execution_count": null,
   "metadata": {},
   "outputs": [],
   "source": [
    "# Hint: You can copy and repurpose the code from the cell above.\n",
    "#y_dec2 = ...\n",
    "#t_dec2 = ...\n",
    "\n",
    "\n",
    "# Plot (you shouldn't need to change this)\n",
    "sps_dec2=int(round(len(t_dec2)/np.nanmax(t1),1))                               # Calculate sample per second (rounded)\n",
    "fig_3 = dsp.discrete_plot(t_dec2, y_dec2)                                      # Create intial plot\n",
    "fig_3.add_trace(go.Scatter(x=t1, y=y1, mode='lines+markers', name='Orignial',  # Add original signal to plot\n",
    "                            line=dict(color='black', width=0.5), opacity=0.3,\n",
    "                            marker=dict(size=6), marker_symbol='circle-open'))\n",
    "fig_3.update_layout(title='Decimated Signal [sps ≈ '+str(sps_dec2)+']',        # Format plot layout\n",
    "                     yaxis_zeroline=False, xaxis_zeroline=False,\n",
    "                     yaxis=dict(range=[-2.5, 2.5], autorange=False),\n",
    "                     xaxis=dict(range=[-0.1, 4.1], autorange=False))\n",
    "fig_3.show()                                                                   # Show plot"
   ]
  },
  {
   "cell_type": "markdown",
   "metadata": {},
   "source": [
    "---"
   ]
  },
  {
   "cell_type": "markdown",
   "metadata": {},
   "source": [
    "# <big>(2) Signal Processing</big>"
   ]
  },
  {
   "cell_type": "markdown",
   "metadata": {},
   "source": [
    "## Auto-Correlation"
   ]
  },
  {
   "cell_type": "markdown",
   "metadata": {},
   "source": [
    "<br>\n",
    "<big>Below is some code to create a *sawtooth* signal.</big>"
   ]
  },
  {
   "cell_type": "code",
   "execution_count": null,
   "metadata": {},
   "outputs": [],
   "source": [
    "sawtooth = dsp.signal_demo('sawtooth_1')  # Load sawtooth signal\n",
    "\n",
    "# Plot\n",
    "fig_2sawtooth = go.Figure()\n",
    "fig_2sawtooth.add_trace(go.Scatter(y=sawtooth, mode='lines', opacity=0.7, name='Sawtooth'))\n",
    "fig_2sawtooth.update_layout(title='<b>(Single) Sawtooth Signal</b>')\n",
    "fig_2sawtooth.show()"
   ]
  },
  {
   "cell_type": "code",
   "execution_count": null,
   "metadata": {},
   "outputs": [],
   "source": [
    "dsp.c_animation(sawtooth, sawtooth, 'corr')"
   ]
  },
  {
   "cell_type": "markdown",
   "metadata": {},
   "source": [
    "<br><big>**(2a)** Calculate the Auto-corrolate the *sawtooth* signal. Set the output equal to *autocorr*.</big>"
   ]
  },
  {
   "cell_type": "code",
   "execution_count": null,
   "metadata": {},
   "outputs": [],
   "source": [
    "# Hint: Use signal.correlate(singal, signal)\n",
    "#autocorr = ...\n",
    "\n",
    "# Plot (you shouldn't need to change this)\n",
    "fig_2d = go.Figure()\n",
    "fig_2d.add_trace(go.Scatter(y=autocorr, mode='lines'))\n",
    "fig_2d.update_layout(title='Auto-Correlation',     # Format plot layout\n",
    "                     yaxis_zeroline=False, xaxis_zeroline=False)\n",
    "fig_2d.show()"
   ]
  },
  {
   "cell_type": "markdown",
   "metadata": {},
   "source": [
    "## Cross-Correlation\n",
    "<br>\n",
    "<big>Below is some code to create another step function signal.</big>"
   ]
  },
  {
   "cell_type": "code",
   "execution_count": null,
   "metadata": {},
   "outputs": [],
   "source": [
    "step_function = dsp.signal_demo('stepfunction_2')   # Load step function signal\n",
    "\n",
    "# Plot\n",
    "fig_2stepf = go.Figure()\n",
    "fig_2stepf.add_trace(go.Scatter(y=step_function, mode='lines', opacity=0.7, name='Steps'))\n",
    "fig_2stepf.update_layout(title='<b>(New) Step Function</b>', yaxis=dict(range=[-1.1, 2.1]))\n",
    "fig_2stepf.add_trace(go.Scatter(y=sawtooth, mode='lines', opacity=0.7, name='Sawtooth', visible='legendonly'))\n",
    "fig_2stepf.show()"
   ]
  },
  {
   "cell_type": "code",
   "execution_count": null,
   "metadata": {},
   "outputs": [],
   "source": [
    "dsp.c_animation(step_function, sawtooth, 'corr')\n",
    "dsp.c_animation(sawtooth, step_function, 'corr')"
   ]
  },
  {
   "cell_type": "markdown",
   "metadata": {},
   "source": [
    "<br><big>**(2b)** Cross-corrolate the *sawtooth* (signal B) to the *step_function* (signal A). Set the output equal to *xcorr*.</big>"
   ]
  },
  {
   "cell_type": "code",
   "execution_count": null,
   "metadata": {},
   "outputs": [],
   "source": [
    "# Hint: Use signal.correlate(singal_A, signal_B)\n",
    "#xcorr = ...\n",
    "\n",
    "# Plot (you shouldn't need to change this)\n",
    "fig_2e = go.Figure()\n",
    "fig_2e.add_trace(go.Scatter(y=xcorr, x=np.linspace(-1*len(step_function),len(boxcar),len(xcorr)),\n",
    "                            mode='lines', fill='tozeroy', line=dict(color='purple', width=1)))\n",
    "fig_2e.update_layout(title='Cross-Correlation',     # Format plot layout\n",
    "                     yaxis_zeroline=False, xaxis_zeroline=False)\n",
    "fig_2e.show()"
   ]
  },
  {
   "cell_type": "markdown",
   "metadata": {},
   "source": [
    "## Convolution"
   ]
  },
  {
   "cell_type": "code",
   "execution_count": null,
   "metadata": {},
   "outputs": [],
   "source": [
    "dsp.c_animation(step_function, sawtooth, 'conv')\n",
    "dsp.c_animation(sawtooth, step_function, 'conv')"
   ]
  },
  {
   "cell_type": "markdown",
   "metadata": {},
   "source": [
    "<br>\n",
    "<big>**(2c)** Convolve the *boxcar* signal to this *step_function* signal. Set the output equal to *conv*.</big>"
   ]
  },
  {
   "cell_type": "code",
   "execution_count": null,
   "metadata": {},
   "outputs": [],
   "source": [
    "# Hint: Use signal.convolve(singal_A, signal_B)\n",
    "#conv = ...\n",
    "\n",
    "# Plot (you shouldn't need to change this)\n",
    "fig_2f = go.Figure()\n",
    "fig_2f.add_trace(go.Scatter(y=conv, x=np.linspace(-1*len(step_function),len(boxcar),len(conv)),\n",
    "                            mode='lines', fill='tozeroy', line=dict(color='purple', width=1)))\n",
    "fig_2f.update_layout(title='<b>Convolution</b>')\n",
    "fig_2f.show()"
   ]
  },
  {
   "cell_type": "markdown",
   "metadata": {},
   "source": [
    "## Signal Stacking (a.k.a Adding)\n",
    "<br>\n",
    "<big>To start, let us create as simple (digital) cosine wave signal.</big>\n",
    "<br>\n",
    "<big>Cosine wave equation:\n",
    "<br><br>\n",
    "*&emsp;&emsp;&emsp;&emsp;&emsp;&emsp;&emsp;&emsp;&emsp;&emsp;&emsp;f ( t ) = A cos( ω t + ρ )*\n",
    "<br><br>\n",
    "*t* = time (s) <br>*A* = Amplitude <br>*ω* = frequency (Hz) <br>*ρ* = phase</big>\n",
    "\n",
    "<br><big>Below is code to calculates the sum of two cosine wave  (0s ≤ *t* < 4s; sampled at 100 Hz) with the following parameters:\n",
    "<ol>\n",
    "    <li>*A* = **2**,&emsp;*ω* = **1.5** Hz,&emsp;*ρ* = **2**</li>\n",
    "    <li>*A* = **0.5**,&emsp;*ω* = **20** Hz,&emsp;*ρ* = **0.9**</li>\n",
    "</ol>\n",
    "</big>"
   ]
  },
  {
   "cell_type": "code",
   "execution_count": null,
   "metadata": {},
   "outputs": [],
   "source": [
    "sps2 = 100                    # Samples per second (sample rate).\n",
    "t2 = np.arange(0, 4, 1/sps2)  # Create an array from 0-10 for given sample rate.\n",
    "\n",
    "y2_a = 2 * np.cos(1.5 * t2 + 2)\n",
    "y2_b = 0.5 * np.cos(20 * t2 + 0.9)\n",
    "y2_ab = np.add(y2_a, y2_b)  # or y2_a + y2_b but using numpy is usually faster and safer.\n",
    "\n",
    "# Plot\n",
    "fig_2a = go.Figure()\n",
    "fig_2a.add_trace(go.Scatter(y=y2_a, mode='lines', name='1. Signal', visible='legendonly'))\n",
    "fig_2a.add_trace(go.Scatter(y=y2_b, mode='lines', name='2. Signal', visible='legendonly'))\n",
    "fig_2a.add_trace(go.Scatter(y=y2_ab, mode='lines', name = '(1. Signal) + (2. Signal)'))\n",
    "fig_2a.update_layout(title='<b>Signal Stack</b>',  yaxis=dict(range=[-2.7, 2.7]))\n",
    "fig_2a.show()"
   ]
  },
  {
   "cell_type": "markdown",
   "metadata": {},
   "source": [
    "## Fourier Analysis\n",
    "<br>\n",
    "<big>Below is some code to plot a time and frequency representation of an unkown signal.</big>"
   ]
  },
  {
   "cell_type": "code",
   "execution_count": null,
   "metadata": {
    "scrolled": false
   },
   "outputs": [],
   "source": [
    "dsp.fourier_demo()"
   ]
  },
  {
   "cell_type": "markdown",
   "metadata": {},
   "source": [
    "<br><big>**(2e)** Using the information from the ***Power Spectrum***, recreate the ***Waveform*** signal using a sum of sine signals (0s ≤ t < 0.5s; no phase shift). Set the output equal to *y_fs*.</big>"
   ]
  },
  {
   "cell_type": "code",
   "execution_count": null,
   "metadata": {},
   "outputs": [],
   "source": [
    "sps_s = 500                        # Samples per second (sample rate).\n",
    "t_fs = np.arange(0, 0.5, 1/sps_s)  # Create an array from 0-10 for given sample rate.\n",
    "\n",
    "#y_fs = ...\n",
    "\n",
    "# Plot\n",
    "fig_2step = go.Figure()\n",
    "fig_2step.add_trace(go.Scatter(y=y_fs, x=t_fs, mode='lines'))\n",
    "fig_2step.update_layout(title='<b>Signal</b>')\n",
    "fig_2step.show()"
   ]
  },
  {
   "cell_type": "markdown",
   "metadata": {},
   "source": [
    "## Gibbs Phenomenon\n",
    "<br>\n",
    "<big>Below is some code to create a step function signal.</big>"
   ]
  },
  {
   "cell_type": "code",
   "execution_count": null,
   "metadata": {},
   "outputs": [],
   "source": [
    "step_signal = dsp.signal_demo('stepfunction_1')\n",
    "\n",
    "fig_2step = go.Figure()\n",
    "fig_2step.add_trace(go.Scatter(y=step_signal, mode='lines'))\n",
    "fig_2step.update_layout(title='<b>Step Function Signal</b>')\n",
    "fig_2step.show()"
   ]
  },
  {
   "cell_type": "markdown",
   "metadata": {},
   "source": [
    "<br>\n",
    "<big>**(c)** Incrementally increase the *sinusoid_count* used to mimic the step function signal to the following values:\n",
    "<ul>\n",
    "    <li>*sinusoid_count* = **2**</li>\n",
    "    <li>*sinusoid_count* = **4**</li>\n",
    "    <li>*sinusoid_count* = **10**</li>\n",
    "    <li>*sinusoid_count* = **100**</li>\n",
    "    <li>*sinusoid_count* = **1000**</li>\n",
    "</ul>\n",
    "\n",
    "**What are some observations of these results compared to the original step function signal?**</big>"
   ]
  },
  {
   "cell_type": "code",
   "execution_count": null,
   "metadata": {},
   "outputs": [],
   "source": [
    "sps2c = 5000                     # Samples per second (sample rate).\n",
    "t2c = np.arange(0, 10, 1/sps2c)  # Create an array from 0-10 for given sample rate.\n",
    "\n",
    "sinusoid_count = 2\n",
    "\n",
    "\n",
    "# Calculate Step Function\n",
    "y2_c = dsp.signal_demo('fourier_series_sf',sps2c,t2c,n=sinusoid_count)\n",
    "\n",
    "# Plot\n",
    "fig_2c = go.Figure()\n",
    "fig_2c.add_trace(go.Scatter(y=y2_c, x=np.linspace(0, 400, len(y2_c)), mode='lines'))\n",
    "fig_2c.update_layout(title='<b>(Sinusoid-Contructed) Step Function Signal</b>')\n",
    "fig_2c.show()"
   ]
  },
  {
   "cell_type": "markdown",
   "metadata": {},
   "source": [
    "---"
   ]
  },
  {
   "cell_type": "markdown",
   "metadata": {},
   "source": [
    "# <big>(3) Application to Seismology</big>"
   ]
  },
  {
   "cell_type": "markdown",
   "metadata": {},
   "source": [
    "<br>\n",
    "<big>Below is some code to read a (SAC) waveform files.</big>"
   ]
  },
  {
   "cell_type": "code",
   "execution_count": null,
   "metadata": {
    "scrolled": false
   },
   "outputs": [],
   "source": [
    "# Read SAC file\n",
    "wav_file1 = \"wavelet1.SAC\"  # \"UU.HVU..HHZ.2002.11.03.cut.SAC\", \"wavelet1.SAC\"\n",
    "stream1 = obspy.read(wav_file1)  # Read seismic waveform files (e.g., SAC)\n",
    "\n",
    "# Exctract Data\n",
    "amp1 = stream1[0].data                 # Seismogram measuremnts\n",
    "dt1 = stream1[0].times(\"utcdatetime\")  # Sample times\n",
    "\n",
    "\n",
    "# Plot waveform trace\n",
    "fig_w1 = go.Figure(go.Scatter(y=amp1, x=dt1, mode='lines', line=dict(color='black')))\n",
    "fig_w1.update_layout(title='<b>Seismic Waveform</b>')\n",
    "fig_w1.update_xaxes(title_text='Datetime')\n",
    "fig_w1.update_yaxes(title_text='Amplitude')\n",
    "fig_w1.show()"
   ]
  },
  {
   "cell_type": "markdown",
   "metadata": {},
   "source": [
    "<br>\n",
    "<big>Below is some code to calculate the power spectrum.</big>"
   ]
  },
  {
   "cell_type": "code",
   "execution_count": null,
   "metadata": {
    "scrolled": false
   },
   "outputs": [],
   "source": [
    "N = stream1[0].stats.npts  # Exctract number of sample points\n",
    "T = stream1[0].stats.delta # Exctract sample spacing in seconds\n",
    "sps = stream1[0].stats.sampling_rate # Exctract samples per second\n",
    "\n",
    "f, Pxx_spec = signal.welch(amp1, sps, 'flattop', 1024, scaling='spectrum')\n",
    "\n",
    "#plt.semilogy(f, np.sqrt(Pxx_spec))\n",
    "\n",
    "\n",
    "fig_3b = go.Figure()\n",
    "fig_3b.add_trace(go.Scatter(y=np.sqrt(Pxx_spec), x=f, mode='lines'))\n",
    "fig_3b.update_layout(title='<b>Power Spectrum</b>')\n",
    "fig_3b.update_xaxes(title_text='Frequency (Hz)')\n",
    "fig_3b.update_yaxes(title_text='Amplitude',type=\"log\")\n",
    "fig_3b.show()"
   ]
  },
  {
   "cell_type": "markdown",
   "metadata": {},
   "source": [
    "## Spectrogram\n",
    "<br>\n",
    "<big>Below is some code to calculate the spectrogram.</big>"
   ]
  },
  {
   "cell_type": "code",
   "execution_count": null,
   "metadata": {},
   "outputs": [],
   "source": [
    "# Calculate Spectrogram\n",
    "window_t = 10  # Spectrogram window duration in time (seconds)\n",
    "\n",
    "timestamp = stream1[0].stats['starttime'].timestamp # Exctract starting timestamp\n",
    "window_sc = int(round(sps * window_t))  # Convert window time in window sample count (rounded to nearest intiger)\n",
    "window_overlap = 0.2  # Overlap percentage shared between windows (1.0 = 100% overlap)\n",
    "\n",
    "# -------------------------\n",
    "# Calculate Spectrogram\n",
    "ff, tt, val = signal.spectrogram(stream1[0].data, \n",
    "                                 fs=sps,  # Sampling frequency (i.e., samples per cycle)\n",
    "                                 window=('tukey', 0.1),  # Window type (e.g., boxcar, hamming, and tukey)\n",
    "                                 nperseg=window_sc,  # Window lenght in number of samples\n",
    "                                 noverlap=int(round(window_sc * window_overlap)),  #  Ooverlap between windows\n",
    "                                 )\n",
    "dsp.plot_spectrogram(ff, tt, val, timestamp, title_name='', dB=True)"
   ]
  },
  {
   "cell_type": "markdown",
   "metadata": {},
   "source": [
    "## Apply (Butterworth Digital) Filter\n",
    "<br>\n",
    "<big>Below is some code to apply a butterworth filter to the seismogram.</big>"
   ]
  },
  {
   "cell_type": "code",
   "execution_count": null,
   "metadata": {},
   "outputs": [],
   "source": [
    "order = 4             # Order of the filter\n",
    "filter_type = 'highpass'  # Filter type (e.g., 'highpass', 'lowpass', 'bandpass')\n",
    "band_cutoff = 5       # Critical frequency or frequencies for filter in Hz (use [min_freq, max_freq] for 'bandpass')\n",
    "\n",
    "sos = signal.butter(order, band_cutoff, btype=filter_type, fs=sps, output='sos')  # Construct Butterworth filter\n",
    "f_data = signal.sosfiltfilt(sos, amp1)  # Apply filter\n",
    "\n",
    "# Plot\n",
    "fig_fw1 = make_subplots(specs=[[{\"secondary_y\": True}]])\n",
    "fig_fw1.add_trace(go.Scatter(x=dt1, y=amp1, name='Raw', line=dict(color='#737373', width=3)), secondary_y=False)\n",
    "fig_fw1.add_trace(go.Scatter(x=dt1, y=f_data, name='Filtered', line=dict(color='red', width=2)), secondary_y=True)\n",
    "amp1_max = np.nanmax(np.abs(amp1));f_data_max = np.nanmax(np.abs(f_data));\n",
    "fig_fw1.update_yaxes(range=[-1*amp1_max,amp1_max], secondary_y=False)\n",
    "fig_fw1.update_yaxes(range=[-1*f_data_max,f_data_max], secondary_y=True)\n",
    "\n",
    "fig_fw1.show()"
   ]
  },
  {
   "cell_type": "markdown",
   "metadata": {},
   "source": [
    "---"
   ]
  }
 ],
 "metadata": {
  "kernelspec": {
   "display_name": "roses_2021",
   "language": "python",
   "name": "roses_2021"
  },
  "language_info": {
   "codemirror_mode": {
    "name": "ipython",
    "version": 3
   },
   "file_extension": ".py",
   "mimetype": "text/x-python",
   "name": "python",
   "nbconvert_exporter": "python",
   "pygments_lexer": "ipython3",
   "version": "3.9.5"
  }
 },
 "nbformat": 4,
 "nbformat_minor": 2
}
